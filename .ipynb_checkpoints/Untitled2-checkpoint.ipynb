{
 "cells": [
  {
   "cell_type": "code",
   "execution_count": null,
   "id": "382677de",
   "metadata": {},
   "outputs": [],
   "source": [
    "import cv2\n",
    "import matplotlib.pyplot as plt\n",
    "\n",
    "def show_image(image):\n",
    "    plt.figure()\n",
    "    plt.imshow(image)\n",
    "    \n",
    "BCOLOR = (75, 0, 130)\n",
    "THICKNESS = 4\n",
    "\n",
    "img_color = cv2.imread(\"ex.png\")\n",
    "img_color = cv2.resize(img_color, None, None, fx=0.5, fy=0.5)\n",
    "img = cv2.cvtColor(img_color, cv2.COLOR_BGR2GRAY)\n",
    "\n",
    "x,y,w,h = cv2.selectROI(\"Region of interest\", img)\n",
    "print(x,y,w,h)\n",
    "\n",
    "cropped = img[y:y+h, x:x+w]\n",
    "show_image(cropped)\n",
    "\n",
    "cv2.rectangle(img_color, (x,y), (x+w,y+h), (255,0,0), 2)\n",
    "show_image(img_color)"
   ]
  }
 ],
 "metadata": {
  "kernelspec": {
   "display_name": "Python 3",
   "language": "python",
   "name": "python3"
  },
  "language_info": {
   "codemirror_mode": {
    "name": "ipython",
    "version": 3
   },
   "file_extension": ".py",
   "mimetype": "text/x-python",
   "name": "python",
   "nbconvert_exporter": "python",
   "pygments_lexer": "ipython3",
   "version": "3.6.9"
  }
 },
 "nbformat": 4,
 "nbformat_minor": 5
}
