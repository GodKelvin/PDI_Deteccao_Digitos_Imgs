{
 "cells": [
  {
   "cell_type": "markdown",
   "id": "47ea3165",
   "metadata": {},
   "source": [
    "## Importando as bibliotecas utilizadas"
   ]
  },
  {
   "cell_type": "code",
   "execution_count": 3,
   "id": "2f873364",
   "metadata": {},
   "outputs": [],
   "source": [
    "%matplotlib inline\n",
    "import cv2\n",
    "import numpy as np\n",
    "import matplotlib.pyplot as plt\n",
    "import matplotlib.image as mpimg\n",
    "from scipy.spatial import distance as dist\n",
    "from imutils.perspective import four_point_transform\n",
    "from imutils import contours\n",
    "import imutils\n",
    "\n",
    "##Lembrar de verificar quais libs nao estao sendo utilizada"
   ]
  },
  {
   "cell_type": "markdown",
   "id": "70432488",
   "metadata": {},
   "source": [
    "## Transformando a imagem de exemplo em preto e branco"
   ]
  },
  {
   "cell_type": "code",
   "execution_count": 30,
   "id": "5b1ee89e",
   "metadata": {},
   "outputs": [
    {
     "data": {
      "text/plain": [
       "<matplotlib.image.AxesImage at 0x7f94790e7f28>"
      ]
     },
     "execution_count": 30,
     "metadata": {},
     "output_type": "execute_result"
    },
    {
     "data": {
      "image/png": "[encoded data removed]",
      "text/plain": [
       "<Figure size 432x288 with 1 Axes>"
      ]
     },
     "metadata": {
      "needs_background": "light"
     },
     "output_type": "display_data"
    }
   ],
   "source": [
    "DIGITS_LOOKUP = {\n",
    "    (1, 1, 1, 0, 1, 1, 1): 0,\n",
    "    (0, 0, 1, 0, 0, 1, 0): 1,\n",
    "    (1, 0, 1, 1, 1, 1, 0): 2,\n",
    "    (1, 0, 1, 1, 0, 1, 1): 3,\n",
    "    (0, 1, 1, 1, 0, 1, 0): 4,\n",
    "    (1, 1, 0, 1, 0, 1, 1): 5,\n",
    "    (1, 1, 0, 1, 1, 1, 1): 6,\n",
    "    (1, 0, 1, 0, 0, 1, 0): 7,\n",
    "    (1, 1, 1, 1, 1, 1, 1): 8,\n",
    "    (1, 1, 1, 1, 0, 1, 1): 9,\n",
    "    (1, 0, 1, 0, 0, 1, 1): -1\n",
    "}\n",
    "#print(DIGITS_LOOKUP[(1, 0, 1, 1, 1, 1, 0)])\n",
    "\n",
    "imagem_exemplo = \"ex.png\"\n",
    "image = cv2.imread(imagem_exemplo)\n",
    "\n",
    "#Transformando a imagem em escala de cinza\n",
    "gray_scale_image = cv2.cvtColor(image, cv2.COLOR_BGR2GRAY)\n",
    "\n",
    "#Revelando regioes mais escuras (ou seja, os digitos) do que a regiao claras (o fundo)\n",
    "thresh = cv2.threshold(gray_scale_image, 1, 255, cv2.THRESH_BINARY_INV | cv2.THRESH_OTSU)[1]\n",
    "\n",
    "#Limpando a imagem com operações morfologicas (Abertura e fechamento)\n",
    "\n",
    "#Foram testados diferentes valores para o kernel (2....9), sendo o 4 o melhor resultado\n",
    "kernel = cv2.getStructuringElement(cv2.MORPH_ELLIPSE, (1,5))\n",
    "\n",
    "#Limpando a imagem com operações morfologicas (Abertura e fechamento)\n",
    "thresh = cv2.morphologyEx(thresh, cv2.MORPH_OPEN, kernel)\n",
    "closing = cv2.morphologyEx(thresh, cv2.MORPH_CLOSE, kernel)\n",
    "\n",
    "plt.imshow(closing)"
   ]
  },
  {
   "cell_type": "code",
   "execution_count": 26,
   "id": "df88bce7",
   "metadata": {},
   "outputs": [
    {
     "ename": "SyntaxError",
     "evalue": "EOF while scanning triple-quoted string literal (<ipython-input-26-268ca9b0b8ca>, line 82)",
     "output_type": "error",
     "traceback": [
      "\u001b[0;36m  File \u001b[0;32m\"<ipython-input-26-268ca9b0b8ca>\"\u001b[0;36m, line \u001b[0;32m82\u001b[0m\n\u001b[0;31m    '''\u001b[0m\n\u001b[0m       ^\u001b[0m\n\u001b[0;31mSyntaxError\u001b[0m\u001b[0;31m:\u001b[0m EOF while scanning triple-quoted string literal\n"
     ]
    }
   ],
   "source": [
    "#Aplicando o filtro de contorno e encontrando-os\n",
    "cnts = cv2.findContours(thresh.copy(), cv2.RETR_EXTERNAL, cv2.CHAIN_APPROX_SIMPLE)\n",
    "cnts = imutils.grab_contours(cnts)\n",
    "\n",
    "#Lista para armazenar os contornos dos digitos\n",
    "digitCnts = []\n",
    "\n",
    "#Loops nos candidatos da area de digitos\n",
    "for c in cnts:\n",
    "    #Calcula a \"caixa\" de um possivel digito\n",
    "    (x, y, w, h) = cv2.boundingRect(c)\n",
    "    #print(x, y, w, h)\n",
    "    \n",
    "    if(w > 15 and (h >= 30 and h <=40)):\n",
    "        digitCnts.append(c)\n",
    "\n",
    "#print(digitCnts)\n",
    "#Identificacao de cada um dos digitos\n",
    "\n",
    "#Classificandoos contornos dos digitos da esquerda para a direita\n",
    "'''\n",
    "Esta etapa de classificacao eh necessaria, pois nao ha garantias de que os contornos\n",
    "ja estejam classificados da esquerda para a direita (mesma direcao em que leriamos os digitos)\n",
    "'''\n",
    "digitCnts = contours.sort_contours(digitCnts, method=\"left-to-right\")[0]\n",
    "digits = []\n",
    "\n",
    "#############\n",
    "#output = four_point_transform(image, displayCnt.reshape(4, 2))\n",
    "#Loop em cada um dos digitos\n",
    "for c in digitCnts:\n",
    "    #Para cada uma das regioes, calculamos a caixa delimitadora e extraimos o digito ROI\n",
    "    (x, y, w, h) = cv2.boundingRect(c)\n",
    "    \n",
    "    #Largura e altura aproximadas de cada segmento com base nas dimensoes do ROI\n",
    "    roi = thresh[y:y + h, x:x + w]\n",
    "\n",
    "    (roiH, roiW) = roi.shape\n",
    "    (dW, dH) = (int(roiW * 0.25), int(roiH * 0.15))\n",
    "    dHC = int(roiH * 0.05)\n",
    "    \n",
    "    #Lista de (x, y) coordenadas que correspondem aos sete segmentos\n",
    "    segments = [\n",
    "        ((0, 0), (w, dH)),                           # top\n",
    "        ((0, 0), (dW, h // 2)),                      # top-left\n",
    "        ((w - dW, 0), (w, h // 2)),                  # top-right\n",
    "        ((0, (h // 2) - dHC) , (w, (h // 2) + dHC)), # center\n",
    "        ((0, h // 2), (dW, h)),\t                     # bottom-left\n",
    "        ((w - dW, h // 2), (w, h)),                  # bottom-right\n",
    "        ((0, h - dH), (w, h))                        # bottom\n",
    "    ]\n",
    "    \n",
    "    #Lista que nforma se determinado segmento esta ligado. Valor 0 == segmento desligado\n",
    "    #[0, 0, 0, 0, 0, 0, 0]\n",
    "    on_list = [0] * len(segments)\n",
    "    \n",
    "    #Loop sobre os segmentos\n",
    "    for (i, ((xA, yA), (xB, yB))) in enumerate(segments):\n",
    "        #Extraindo o ROI do segmento\n",
    "        segROI = roi[yA:yB, xA:xB]\n",
    "        #Numero de pixels do segmento q estao \"ligados\"\n",
    "        total = cv2.countNonZero(segROI)\n",
    "        area = (xB - xA) * (yB - yA)\n",
    "        \n",
    "        '''\n",
    "        Se a proporcao de pixels diferentes de 0 para a area do segmento \n",
    "        for maior que 50% => O segmento estao ligado\n",
    "        '''\n",
    "        if(total / float(area)) > 0.5:\n",
    "            on_list[i] = 1\n",
    "    \n",
    "    #Obetendo o digito em si\n",
    "    #print(tuple(on))\n",
    "    digit = DIGITS_LOOKUP[tuple(on_list)]\n",
    "    digits.append(digit)\n",
    "    \n",
    "    #Desenhando uma caixa em torno do digito e exibindo qual digito ele eh\n",
    "    cv2.rectangle(image, (x, y), (x + w, y + h), (0, 255, 0), 1)\n",
    "    #input()\n",
    "    cv2.putText(image, str(digit), (x - 10, y - 10), cv2.FONT_HERSHEY_SIMPLEX, 0.65, (0, 255, 0), 2)\n",
    "plt.imshow(closing)"
   ]
  }
 ],
 "metadata": {
  "kernelspec": {
   "display_name": "Python 3",
   "language": "python",
   "name": "python3"
  },
  "language_info": {
   "codemirror_mode": {
    "name": "ipython",
    "version": 3
   },
   "file_extension": ".py",
   "mimetype": "text/x-python",
   "name": "python",
   "nbconvert_exporter": "python",
   "pygments_lexer": "ipython3",
   "version": "3.6.9"
  }
 },
 "nbformat": 4,
 "nbformat_minor": 5
}
